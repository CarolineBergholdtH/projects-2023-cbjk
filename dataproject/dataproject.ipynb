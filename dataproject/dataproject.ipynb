{
 "cells": [
  {
   "attachments": {},
   "cell_type": "markdown",
   "metadata": {},
   "source": [
    "# Fathers Share of Parential Leave "
   ]
  },
  {
   "attachments": {},
   "cell_type": "markdown",
   "metadata": {},
   "source": [
    "Imports and set magics:"
   ]
  },
  {
   "cell_type": "code",
   "execution_count": 1,
   "metadata": {},
   "outputs": [],
   "source": [
    "# a. import packeges  \n",
    "import pandas as pd\n",
    "import numpy as np\n",
    "import matplotlib.pyplot as plt\n",
    "import pydst\n",
    "\n",
    "# b. define Danish Statistics API as dst \n",
    "dst = pydst.Dst(lang='en')\n",
    "\n",
    "# c. autoreload modules when code is run\n",
    "%load_ext autoreload\n",
    "%autoreload 2\n",
    "\n",
    "# d. plotting style \n",
    "plt.style.use('seaborn-whitegrid')\n",
    "\n",
    "# e. user written modules\n",
    "import dataproject as data \n"
   ]
  },
  {
   "cell_type": "code",
   "execution_count": 2,
   "metadata": {},
   "outputs": [],
   "source": [
    "# set the default format for the x-axis labels to 'YYYY'\n",
    "plt.rcParams['axes.formatter.useoffset'] = False\n",
    "plt.rcParams['axes.formatter.limits'] = (-4, 4)\n",
    "plt.rcParams['axes.formatter.min_exponent'] = 0\n",
    "plt.rcParams['axes.formatter.use_locale'] = True\n",
    "plt.rcParams['axes.formatter.use_mathtext'] = True\n",
    "plt.rcParams['date.autoformatter.year'] = '%Y'"
   ]
  },
  {
   "attachments": {},
   "cell_type": "markdown",
   "metadata": {},
   "source": [
    "## Introduction"
   ]
  },
  {
   "attachments": {},
   "cell_type": "markdown",
   "metadata": {},
   "source": [
    "Due to the new regulations on parential leave in Denmark, we want to look at fathers share of the parential leave, further how education for the mother and the farther effects the fathers share for the first year of a child's life. \n",
    "\n",
    "To do so we look at BARSEL05 from Danish Statistics and we choose parents which both are entitled to Danish parential leave benefits. This is due to the more streamlined estimate."
   ]
  },
  {
   "attachments": {},
   "cell_type": "markdown",
   "metadata": {},
   "source": [
    "## Load parential leave data"
   ]
  },
  {
   "attachments": {},
   "cell_type": "markdown",
   "metadata": {},
   "source": [
    "For TAL we want to look at:\n",
    "\n",
    "- \"Number of couples\", \"Mother - days on parental leave (benefits) before birth on average\", \n",
    "- \"Mother - days on parental leave (benefits) after birth on average\" and \n",
    "- \"Father - days on parental leave (benefits) after birth on average\"\n",
    "\n",
    "So we pic the ids 000, 202, 220 and 330. \n",
    "\n",
    "For BERET we want \"Both mother and father are entitled to parental leave\". This is 511.\n",
    "\n",
    "For MORUD and FARUD we want all education levels and for Tid we want all obervation years (2015 - 2021). \n",
    "\n",
    "For OMRÅDE we want \"All Denmark\" so we pic id 000. \n"
   ]
  },
  {
   "cell_type": "code",
   "execution_count": 3,
   "metadata": {},
   "outputs": [],
   "source": [
    "# a. load the data\n",
    "barsel = dst.get_data(table_id = 'BARSEL05', \n",
    "                      variables={'TAL':['000','202','220','330'], \n",
    "                                 'BERET':['511'], \n",
    "                                 'MORUD':['*'], \n",
    "                                 'FARUD':['*'], \n",
    "                                 'OMRÅDE':['000'], \n",
    "                                 'Tid':['*']})\n",
    "\n",
    "# RENAME COLUMNS \n",
    "\n",
    "\n",
    "# b. Copy 'barsel' to have the original \n",
    "barsel_true = barsel.copy()\n",
    "\n",
    "# c. Sets TID as an integer \n",
    "barsel_true['TID'] = barsel_true['TID'].astype(int)\n",
    "\n",
    "# d. Sets INDHOLD as a float \n",
    "barsel_true['INDHOLD'] = barsel_true['INDHOLD'].astype(float)"
   ]
  },
  {
   "attachments": {},
   "cell_type": "markdown",
   "metadata": {},
   "source": [
    "## Data processing, figures and tables "
   ]
  },
  {
   "attachments": {},
   "cell_type": "markdown",
   "metadata": {},
   "source": [
    "We wants to look the average days of parential leave for mother and father. Thus, we extract \"All fathers, regardless of education\" for FARUD, \"All mothers, regardless of education\" for MORUD and \"Mother - days on parental leave (benefits) after birth on average\" for TAL for mother and \"Father - days on parental leave (benefits) after birth on average\" for TAL for father. \n",
    "\n",
    "We save the values for the mother in 'Mother_all' and for the father in 'Father_all'. We cut both datasets such it only contains TID and INDHOLD. "
   ]
  },
  {
   "cell_type": "code",
   "execution_count": 5,
   "metadata": {},
   "outputs": [],
   "source": [
    "# Extract Father_all and Mother_all from the 'extract_data' function \n",
    "Mother_all, Father_all = data.extract_data(barsel_true)"
   ]
  },
  {
   "attachments": {},
   "cell_type": "markdown",
   "metadata": {},
   "source": [
    "Then we want to plot the two datasets against each other. "
   ]
  },
  {
   "cell_type": "code",
   "execution_count": 6,
   "metadata": {},
   "outputs": [
    {
     "data": {
      "text/plain": [
       "<matplotlib.legend.Legend at 0x7ff434d16310>"
      ]
     },
     "execution_count": 6,
     "metadata": {},
     "output_type": "execute_result"
    },
    {
     "data": {
      "image/png": "[encoded data removed]",
      "text/plain": [
       "<Figure size 640x480 with 1 Axes>"
      ]
     },
     "metadata": {},
     "output_type": "display_data"
    }
   ],
   "source": [
    "# a. Define the figure and ax \n",
    "fig = plt.figure()\n",
    "ax = fig.add_subplot(1,1,1)\n",
    "\n",
    "# b. Plot mother \n",
    "Mother_all.plot(x = 'TID', y = 'INDHOLD', ax=ax, label = 'Mother (after birth)')\n",
    "\n",
    "# c. Plot father \n",
    "Father_all.plot(x = 'TID', y = 'INDHOLD', ax=ax, label = 'Father')\n",
    "\n",
    "# d. Add title, axis labels and legend \n",
    "ax.set_title('Average days of parential leave for mother and father')\n",
    "ax.set_ylabel('Days')\n",
    "ax.set_xlabel('Year')\n",
    "ax.legend(loc = 'center', bbox_to_anchor=(1.2,0.5))"
   ]
  },
  {
   "attachments": {},
   "cell_type": "markdown",
   "metadata": {},
   "source": [
    "From the above we see that the average days for the mother after the birth as a bit decreasing from 282,8 in 2015 to 280,1 in 2020. For the father the average days of parential leave is increasing from 29,7 in 2015 to 35 in 2021. "
   ]
  },
  {
   "attachments": {},
   "cell_type": "markdown",
   "metadata": {},
   "source": [
    "Next, we want to look at the elaboration of the fathers share of parential leave on average. We can do this with the data from the above plot. We merge and find the father's part of the total parential leave. "
   ]
  },
  {
   "cell_type": "code",
   "execution_count": 15,
   "metadata": {},
   "outputs": [
    {
     "data": {
      "image/png": "[encoded data removed]",
      "text/plain": [
       "<Figure size 640x480 with 1 Axes>"
      ]
     },
     "metadata": {},
     "output_type": "display_data"
    }
   ],
   "source": [
    "# a. Copy the dataframe 'Father_all'\n",
    "Father_part = Father_all.copy()\n",
    "\n",
    "# b. Left merge 'Father_part' and 'Mother_all' on TID \n",
    "Father_part = pd.merge(Father_part, Mother_all, how = 'left', on = 'TID')\n",
    "\n",
    "# c. Rename the columns \n",
    "Father_part.columns = ['TID', 'father', 'mother']\n",
    "\n",
    "# d. Find the father's part \n",
    "Father_part['INDHOLD'] = Father_part['father']/(Father_part['father'] + Father_part['mother'])*100\n",
    "\n",
    "# e. Define figure and ax \n",
    "fig = plt.figure()\n",
    "ax = fig.add_subplot(1,1,1)\n",
    "\n",
    "# f. Plot father's part \n",
    "Father_part.plot(x = 'TID', y = 'INDHOLD', ax=ax)\n",
    "\n",
    "# g. Set title, label, y-axis limits and removes the legend\n",
    "ax.set_title('Fathers average share of parential leave')\n",
    "ax.set_ylabel('Procent')\n",
    "ax.set_xlabel('Year')\n",
    "ax.set_ylim(5, 15)\n",
    "ax.legend().remove()"
   ]
  },
  {
   "attachments": {},
   "cell_type": "markdown",
   "metadata": {},
   "source": [
    "From the above table it is seen that father's share of parential is increasing from 2015 to 2021. "
   ]
  },
  {
   "attachments": {},
   "cell_type": "markdown",
   "metadata": {},
   "source": [
    "Next, we want to see how parential leave distribute when education is included. To do so we set the other parent's education level constant and we cut the data such that it contains the education levels for the father, TID and INDHOLD. "
   ]
  },
  {
   "cell_type": "code",
   "execution_count": 16,
   "metadata": {},
   "outputs": [],
   "source": [
    "# Extract Father_educ and Mother_educ from the 'manipulate_data' function \n",
    "Father_educ, Mother_educ = data.manipulate_data(barsel_true)"
   ]
  },
  {
   "attachments": {},
   "cell_type": "markdown",
   "metadata": {},
   "source": [
    "We want to plot the two plots. "
   ]
  },
  {
   "cell_type": "code",
   "execution_count": 17,
   "metadata": {},
   "outputs": [
    {
     "data": {
      "image/png": "[encoded data removed]",
      "text/plain": [
       "<Figure size 640x480 with 2 Axes>"
      ]
     },
     "metadata": {},
     "output_type": "display_data"
    }
   ],
   "source": [
    "# Extract fig from the 'plot_parental_leave' function using Father_educ and Mother_educ\n",
    "fig = data.plot_parental_leave(Father_educ, Mother_educ)\n",
    "plt.show()"
   ]
  },
  {
   "attachments": {},
   "cell_type": "markdown",
   "metadata": {},
   "source": [
    "The first above figure Figure shows that the father's number of maternity days is dependent on education level. It can be seen that fathers with lower secondary take the least leave with an average of approximately 20 days. This has almostremained unchanged throughout the observation period. In contrast to this, fathers with a master are seen, where the number of maternity days has increased from around 45 days in 2015 to around 52 days in 2020. Between these two extremes are upper secondary, short cycle tertiary and bachelor, where the number of days increases in line with the level of education.\n",
    "\n",
    "It is not only fathers' allocation that depends on education level - the same applies to mothers. The second figure shows the mother's maternity leave days divided by education. Here it appears that mothers with lower secondary take the most maternity leave with around 295 days, which is approximately constant from 2015 to 2020. Mothers with upper secondary are just behind with around 292 days. In contrast to father, bachelor is slightly higher than short cycle tertiary in 2015, while they meet at around 285 days in 2020. Master level is seen a bit lower, at around 265 days."
   ]
  },
  {
   "attachments": {},
   "cell_type": "markdown",
   "metadata": {},
   "source": [
    "We want to look futher into how the education level of each parent affects the father's share of the parential leave.\n",
    "The following code prepares the data."
   ]
  },
  {
   "cell_type": "code",
   "execution_count": 34,
   "metadata": {},
   "outputs": [],
   "source": [
    "# Extract the fathers part of parential leave in procent and days from 'calculate_father_share' function\n",
    "Father_part_educ_2021_pivot_procent, Father_part_educ_2021_pivot_days = data.calculate_father_share(barsel_true, 2021)"
   ]
  },
  {
   "attachments": {},
   "cell_type": "markdown",
   "metadata": {},
   "source": [
    "Then we present the conditional share of parential leave for the father. First in percent: "
   ]
  },
  {
   "cell_type": "code",
   "execution_count": 35,
   "metadata": {},
   "outputs": [
    {
     "name": "stdout",
     "output_type": "stream",
     "text": [
      "Fathers share of the parential leave depending on education level in %\n"
     ]
    },
    {
     "data": {
      "text/html": [
       "<style type=\"text/css\">\n",
       "#T_54631_row0_col0 {\n",
       "  background-color: #ffffe5;\n",
       "  color: #000000;\n",
       "}\n",
       "#T_54631_row0_col1 {\n",
       "  background-color: #f2fab5;\n",
       "  color: #000000;\n",
       "}\n",
       "#T_54631_row0_col2 {\n",
       "  background-color: #c9e99c;\n",
       "  color: #000000;\n",
       "}\n",
       "#T_54631_row0_col3 {\n",
       "  background-color: #c0e597;\n",
       "  color: #000000;\n",
       "}\n",
       "#T_54631_row0_col4 {\n",
       "  background-color: #9dd688;\n",
       "  color: #000000;\n",
       "}\n",
       "#T_54631_row1_col0 {\n",
       "  background-color: #fcfed6;\n",
       "  color: #000000;\n",
       "}\n",
       "#T_54631_row1_col1 {\n",
       "  background-color: #f6fcb8;\n",
       "  color: #000000;\n",
       "}\n",
       "#T_54631_row1_col2 {\n",
       "  background-color: #d9f0a3;\n",
       "  color: #000000;\n",
       "}\n",
       "#T_54631_row1_col3 {\n",
       "  background-color: #afde8f;\n",
       "  color: #000000;\n",
       "}\n",
       "#T_54631_row1_col4, #T_54631_row3_col3 {\n",
       "  background-color: #75c578;\n",
       "  color: #000000;\n",
       "}\n",
       "#T_54631_row2_col0 {\n",
       "  background-color: #f0f9b4;\n",
       "  color: #000000;\n",
       "}\n",
       "#T_54631_row2_col1 {\n",
       "  background-color: #d7efa2;\n",
       "  color: #000000;\n",
       "}\n",
       "#T_54631_row2_col2 {\n",
       "  background-color: #a7db8c;\n",
       "  color: #000000;\n",
       "}\n",
       "#T_54631_row2_col3 {\n",
       "  background-color: #93d284;\n",
       "  color: #000000;\n",
       "}\n",
       "#T_54631_row2_col4 {\n",
       "  background-color: #3ea75a;\n",
       "  color: #f1f1f1;\n",
       "}\n",
       "#T_54631_row3_col0 {\n",
       "  background-color: #f9fdc4;\n",
       "  color: #000000;\n",
       "}\n",
       "#T_54631_row3_col1 {\n",
       "  background-color: #ddf1a6;\n",
       "  color: #000000;\n",
       "}\n",
       "#T_54631_row3_col2 {\n",
       "  background-color: #abdc8d;\n",
       "  color: #000000;\n",
       "}\n",
       "#T_54631_row3_col4 {\n",
       "  background-color: #3ca458;\n",
       "  color: #f1f1f1;\n",
       "}\n",
       "#T_54631_row4_col0 {\n",
       "  background-color: #bde496;\n",
       "  color: #000000;\n",
       "}\n",
       "#T_54631_row4_col1 {\n",
       "  background-color: #6fc174;\n",
       "  color: #000000;\n",
       "}\n",
       "#T_54631_row4_col2 {\n",
       "  background-color: #329850;\n",
       "  color: #f1f1f1;\n",
       "}\n",
       "#T_54631_row4_col3 {\n",
       "  background-color: #187b3f;\n",
       "  color: #f1f1f1;\n",
       "}\n",
       "#T_54631_row4_col4 {\n",
       "  background-color: #004529;\n",
       "  color: #f1f1f1;\n",
       "}\n",
       "</style>\n",
       "<table id=\"T_54631\">\n",
       "  <thead>\n",
       "    <tr>\n",
       "      <th class=\"index_name level0\" >FARUD</th>\n",
       "      <th id=\"T_54631_level0_col0\" class=\"col_heading level0 col0\" >Lower Secondary</th>\n",
       "      <th id=\"T_54631_level0_col1\" class=\"col_heading level0 col1\" >Upper Secondary</th>\n",
       "      <th id=\"T_54631_level0_col2\" class=\"col_heading level0 col2\" >Short Cycle Tertiary</th>\n",
       "      <th id=\"T_54631_level0_col3\" class=\"col_heading level0 col3\" >Bachelor</th>\n",
       "      <th id=\"T_54631_level0_col4\" class=\"col_heading level0 col4\" >Master</th>\n",
       "    </tr>\n",
       "    <tr>\n",
       "      <th class=\"index_name level0\" >MORUD</th>\n",
       "      <th class=\"blank col0\" >&nbsp;</th>\n",
       "      <th class=\"blank col1\" >&nbsp;</th>\n",
       "      <th class=\"blank col2\" >&nbsp;</th>\n",
       "      <th class=\"blank col3\" >&nbsp;</th>\n",
       "      <th class=\"blank col4\" >&nbsp;</th>\n",
       "    </tr>\n",
       "  </thead>\n",
       "  <tbody>\n",
       "    <tr>\n",
       "      <th id=\"T_54631_level0_row0\" class=\"row_heading level0 row0\" >Lower Secondary</th>\n",
       "      <td id=\"T_54631_row0_col0\" class=\"data row0 col0\" >4.900000</td>\n",
       "      <td id=\"T_54631_row0_col1\" class=\"data row0 col1\" >6.900000</td>\n",
       "      <td id=\"T_54631_row0_col2\" class=\"data row0 col2\" >8.900000</td>\n",
       "      <td id=\"T_54631_row0_col3\" class=\"data row0 col3\" >9.300000</td>\n",
       "      <td id=\"T_54631_row0_col4\" class=\"data row0 col4\" >10.500000</td>\n",
       "    </tr>\n",
       "    <tr>\n",
       "      <th id=\"T_54631_level0_row1\" class=\"row_heading level0 row1\" >Upper Secondary</th>\n",
       "      <td id=\"T_54631_row1_col0\" class=\"data row1 col0\" >5.500000</td>\n",
       "      <td id=\"T_54631_row1_col1\" class=\"data row1 col1\" >6.700000</td>\n",
       "      <td id=\"T_54631_row1_col2\" class=\"data row1 col2\" >8.300000</td>\n",
       "      <td id=\"T_54631_row1_col3\" class=\"data row1 col3\" >9.900000</td>\n",
       "      <td id=\"T_54631_row1_col4\" class=\"data row1 col4\" >11.800000</td>\n",
       "    </tr>\n",
       "    <tr>\n",
       "      <th id=\"T_54631_level0_row2\" class=\"row_heading level0 row2\" >Short Cycle Tertiary</th>\n",
       "      <td id=\"T_54631_row2_col0\" class=\"data row2 col0\" >7.000000</td>\n",
       "      <td id=\"T_54631_row2_col1\" class=\"data row2 col1\" >8.400000</td>\n",
       "      <td id=\"T_54631_row2_col2\" class=\"data row2 col2\" >10.200000</td>\n",
       "      <td id=\"T_54631_row2_col3\" class=\"data row2 col3\" >10.800000</td>\n",
       "      <td id=\"T_54631_row2_col4\" class=\"data row2 col4\" >13.600000</td>\n",
       "    </tr>\n",
       "    <tr>\n",
       "      <th id=\"T_54631_level0_row3\" class=\"row_heading level0 row3\" >Bachelor</th>\n",
       "      <td id=\"T_54631_row3_col0\" class=\"data row3 col0\" >6.200000</td>\n",
       "      <td id=\"T_54631_row3_col1\" class=\"data row3 col1\" >8.100000</td>\n",
       "      <td id=\"T_54631_row3_col2\" class=\"data row3 col2\" >10.100000</td>\n",
       "      <td id=\"T_54631_row3_col3\" class=\"data row3 col3\" >11.800000</td>\n",
       "      <td id=\"T_54631_row3_col4\" class=\"data row3 col4\" >13.700000</td>\n",
       "    </tr>\n",
       "    <tr>\n",
       "      <th id=\"T_54631_level0_row4\" class=\"row_heading level0 row4\" >Master</th>\n",
       "      <td id=\"T_54631_row4_col0\" class=\"data row4 col0\" >9.400000</td>\n",
       "      <td id=\"T_54631_row4_col1\" class=\"data row4 col1\" >12.000000</td>\n",
       "      <td id=\"T_54631_row4_col2\" class=\"data row4 col2\" >14.200000</td>\n",
       "      <td id=\"T_54631_row4_col3\" class=\"data row4 col3\" >15.600000</td>\n",
       "      <td id=\"T_54631_row4_col4\" class=\"data row4 col4\" >18.500000</td>\n",
       "    </tr>\n",
       "  </tbody>\n",
       "</table>\n"
      ],
      "text/plain": [
       "<pandas.io.formats.style.Styler at 0x7ff43566a940>"
      ]
     },
     "execution_count": 35,
     "metadata": {},
     "output_type": "execute_result"
    }
   ],
   "source": [
    "print('Fathers share of the parential leave depending on education level in %')\n",
    "Father_part_educ_2021_pivot_procent"
   ]
  },
  {
   "attachments": {},
   "cell_type": "markdown",
   "metadata": {},
   "source": [
    "Then we see it in days:"
   ]
  },
  {
   "cell_type": "code",
   "execution_count": 29,
   "metadata": {},
   "outputs": [
    {
     "name": "stdout",
     "output_type": "stream",
     "text": [
      "Fathers share of the parential leave depending on education level in days\n"
     ]
    },
    {
     "data": {
      "text/html": [
       "<style type=\"text/css\">\n",
       "#T_5f266_row0_col0 {\n",
       "  background-color: #f7fcfd;\n",
       "  color: #000000;\n",
       "}\n",
       "#T_5f266_row0_col1 {\n",
       "  background-color: #e2f4f7;\n",
       "  color: #000000;\n",
       "}\n",
       "#T_5f266_row0_col2 {\n",
       "  background-color: #caebe5;\n",
       "  color: #000000;\n",
       "}\n",
       "#T_5f266_row0_col3 {\n",
       "  background-color: #b4e2d8;\n",
       "  color: #000000;\n",
       "}\n",
       "#T_5f266_row0_col4 {\n",
       "  background-color: #8cd2bf;\n",
       "  color: #000000;\n",
       "}\n",
       "#T_5f266_row1_col0 {\n",
       "  background-color: #f1fafc;\n",
       "  color: #000000;\n",
       "}\n",
       "#T_5f266_row1_col1 {\n",
       "  background-color: #e4f5f8;\n",
       "  color: #000000;\n",
       "}\n",
       "#T_5f266_row1_col2 {\n",
       "  background-color: #ceede8;\n",
       "  color: #000000;\n",
       "}\n",
       "#T_5f266_row1_col3 {\n",
       "  background-color: #9ddacb;\n",
       "  color: #000000;\n",
       "}\n",
       "#T_5f266_row1_col4 {\n",
       "  background-color: #63c0a0;\n",
       "  color: #000000;\n",
       "}\n",
       "#T_5f266_row2_col0 {\n",
       "  background-color: #e0f3f5;\n",
       "  color: #000000;\n",
       "}\n",
       "#T_5f266_row2_col1 {\n",
       "  background-color: #cdece6;\n",
       "  color: #000000;\n",
       "}\n",
       "#T_5f266_row2_col2 {\n",
       "  background-color: #95d6c6;\n",
       "  color: #000000;\n",
       "}\n",
       "#T_5f266_row2_col3 {\n",
       "  background-color: #7fcdb6;\n",
       "  color: #000000;\n",
       "}\n",
       "#T_5f266_row2_col4 {\n",
       "  background-color: #3da96f;\n",
       "  color: #f1f1f1;\n",
       "}\n",
       "#T_5f266_row3_col0 {\n",
       "  background-color: #e9f7fa;\n",
       "  color: #000000;\n",
       "}\n",
       "#T_5f266_row3_col1 {\n",
       "  background-color: #cfede8;\n",
       "  color: #000000;\n",
       "}\n",
       "#T_5f266_row3_col2 {\n",
       "  background-color: #92d5c4;\n",
       "  color: #000000;\n",
       "}\n",
       "#T_5f266_row3_col3 {\n",
       "  background-color: #61bf9e;\n",
       "  color: #000000;\n",
       "}\n",
       "#T_5f266_row3_col4 {\n",
       "  background-color: #3ca86d;\n",
       "  color: #f1f1f1;\n",
       "}\n",
       "#T_5f266_row4_col0 {\n",
       "  background-color: #afe1d5;\n",
       "  color: #000000;\n",
       "}\n",
       "#T_5f266_row4_col1 {\n",
       "  background-color: #62c09f;\n",
       "  color: #000000;\n",
       "}\n",
       "#T_5f266_row4_col2 {\n",
       "  background-color: #329d5e;\n",
       "  color: #f1f1f1;\n",
       "}\n",
       "#T_5f266_row4_col3 {\n",
       "  background-color: #18823d;\n",
       "  color: #f1f1f1;\n",
       "}\n",
       "#T_5f266_row4_col4 {\n",
       "  background-color: #00441b;\n",
       "  color: #f1f1f1;\n",
       "}\n",
       "</style>\n",
       "<table id=\"T_5f266\">\n",
       "  <thead>\n",
       "    <tr>\n",
       "      <th class=\"index_name level0\" >FARUD</th>\n",
       "      <th id=\"T_5f266_level0_col0\" class=\"col_heading level0 col0\" >Lower Secondary</th>\n",
       "      <th id=\"T_5f266_level0_col1\" class=\"col_heading level0 col1\" >Upper Secondary</th>\n",
       "      <th id=\"T_5f266_level0_col2\" class=\"col_heading level0 col2\" >Short Cycle Tertiary</th>\n",
       "      <th id=\"T_5f266_level0_col3\" class=\"col_heading level0 col3\" >Bachelor</th>\n",
       "      <th id=\"T_5f266_level0_col4\" class=\"col_heading level0 col4\" >Master</th>\n",
       "    </tr>\n",
       "    <tr>\n",
       "      <th class=\"index_name level0\" >MORUD</th>\n",
       "      <th class=\"blank col0\" >&nbsp;</th>\n",
       "      <th class=\"blank col1\" >&nbsp;</th>\n",
       "      <th class=\"blank col2\" >&nbsp;</th>\n",
       "      <th class=\"blank col3\" >&nbsp;</th>\n",
       "      <th class=\"blank col4\" >&nbsp;</th>\n",
       "    </tr>\n",
       "  </thead>\n",
       "  <tbody>\n",
       "    <tr>\n",
       "      <th id=\"T_5f266_level0_row0\" class=\"row_heading level0 row0\" >Lower Secondary</th>\n",
       "      <td id=\"T_5f266_row0_col0\" class=\"data row0 col0\" >15.500000</td>\n",
       "      <td id=\"T_5f266_row0_col1\" class=\"data row0 col1\" >21.600000</td>\n",
       "      <td id=\"T_5f266_row0_col2\" class=\"data row0 col2\" >26.400000</td>\n",
       "      <td id=\"T_5f266_row0_col3\" class=\"data row0 col3\" >28.700000</td>\n",
       "      <td id=\"T_5f266_row0_col4\" class=\"data row0 col4\" >32.800000</td>\n",
       "    </tr>\n",
       "    <tr>\n",
       "      <th id=\"T_5f266_level0_row1\" class=\"row_heading level0 row1\" >Upper Secondary</th>\n",
       "      <td id=\"T_5f266_row1_col0\" class=\"data row1 col0\" >17.400000</td>\n",
       "      <td id=\"T_5f266_row1_col1\" class=\"data row1 col1\" >21.000000</td>\n",
       "      <td id=\"T_5f266_row1_col2\" class=\"data row1 col2\" >25.700000</td>\n",
       "      <td id=\"T_5f266_row1_col3\" class=\"data row1 col3\" >31.000000</td>\n",
       "      <td id=\"T_5f266_row1_col4\" class=\"data row1 col4\" >37.000000</td>\n",
       "    </tr>\n",
       "    <tr>\n",
       "      <th id=\"T_5f266_level0_row2\" class=\"row_heading level0 row2\" >Short Cycle Tertiary</th>\n",
       "      <td id=\"T_5f266_row2_col0\" class=\"data row2 col0\" >21.800000</td>\n",
       "      <td id=\"T_5f266_row2_col1\" class=\"data row2 col1\" >26.000000</td>\n",
       "      <td id=\"T_5f266_row2_col2\" class=\"data row2 col2\" >31.700000</td>\n",
       "      <td id=\"T_5f266_row2_col3\" class=\"data row2 col3\" >34.100000</td>\n",
       "      <td id=\"T_5f266_row2_col4\" class=\"data row2 col4\" >42.600000</td>\n",
       "    </tr>\n",
       "    <tr>\n",
       "      <th id=\"T_5f266_level0_row3\" class=\"row_heading level0 row3\" >Bachelor</th>\n",
       "      <td id=\"T_5f266_row3_col0\" class=\"data row3 col0\" >19.500000</td>\n",
       "      <td id=\"T_5f266_row3_col1\" class=\"data row3 col1\" >25.500000</td>\n",
       "      <td id=\"T_5f266_row3_col2\" class=\"data row3 col2\" >32.100000</td>\n",
       "      <td id=\"T_5f266_row3_col3\" class=\"data row3 col3\" >37.400000</td>\n",
       "      <td id=\"T_5f266_row3_col4\" class=\"data row3 col4\" >42.900000</td>\n",
       "    </tr>\n",
       "    <tr>\n",
       "      <th id=\"T_5f266_level0_row4\" class=\"row_heading level0 row4\" >Master</th>\n",
       "      <td id=\"T_5f266_row4_col0\" class=\"data row4 col0\" >29.200000</td>\n",
       "      <td id=\"T_5f266_row4_col1\" class=\"data row4 col1\" >37.300000</td>\n",
       "      <td id=\"T_5f266_row4_col2\" class=\"data row4 col2\" >44.500000</td>\n",
       "      <td id=\"T_5f266_row4_col3\" class=\"data row4 col3\" >48.800000</td>\n",
       "      <td id=\"T_5f266_row4_col4\" class=\"data row4 col4\" >57.800000</td>\n",
       "    </tr>\n",
       "  </tbody>\n",
       "</table>\n"
      ],
      "text/plain": [
       "<pandas.io.formats.style.Styler at 0x7ff4397dd3d0>"
      ]
     },
     "execution_count": 29,
     "metadata": {},
     "output_type": "execute_result"
    }
   ],
   "source": [
    "print('Fathers share of the parential leave depending on education level in days')\n",
    "Father_part_educ_2021_pivot_days"
   ]
  },
  {
   "attachments": {},
   "cell_type": "markdown",
   "metadata": {},
   "source": [
    "The tables shows that the father's share of maternity days either weakens or increases depending on the mother's education. If, for example, both mother and father have lower secondary education, the father only takes 14.5 days of maternity leave, which corresponds to 5% of the total maternity leave.\n",
    "\n",
    "If it is still considered that the mother has lower secondary education, a father with a master spends almost twice as many days on maternity leave as a father with a bachelor. The overall average seen in the second figure lies between these two levels of education. Conversely, if we look at mothers with a master, it appears that only fathers with lower secondary are below the average from the second figure with 31.3 days. The highest proportion is found where both parents have a master, then the father takes 14.6% of the maternity leave. Thus, there is a 8.7%-point difference between the smallest and largest share."
   ]
  },
  {
   "attachments": {},
   "cell_type": "markdown",
   "metadata": {},
   "source": [
    "## Conclusion"
   ]
  },
  {
   "attachments": {},
   "cell_type": "markdown",
   "metadata": {},
   "source": [
    "... "
   ]
  }
 ],
 "metadata": {
  "kernelspec": {
   "display_name": "base",
   "language": "python",
   "name": "python3"
  },
  "language_info": {
   "codemirror_mode": {
    "name": "ipython",
    "version": 3
   },
   "file_extension": ".py",
   "mimetype": "text/x-python",
   "name": "python",
   "nbconvert_exporter": "python",
   "pygments_lexer": "ipython3",
   "version": "3.9.13"
  },
  "toc-autonumbering": true,
  "vscode": {
   "interpreter": {
    "hash": "47ef90cdf3004d3f859f1fb202523c65c07ba7c22eefd261b181f4744e2d0403"
   }
  }
 },
 "nbformat": 4,
 "nbformat_minor": 4
}
