{
 "cells": [
  {
   "attachments": {},
   "cell_type": "markdown",
   "metadata": {},
   "source": [
    "# An Overlappoing Generations Model of Climate-Economy Interactions"
   ]
  },
  {
   "cell_type": "markdown",
   "metadata": {},
   "source": [
    "Imports and set magics:"
   ]
  },
  {
   "cell_type": "code",
   "execution_count": 4,
   "metadata": {},
   "outputs": [
    {
     "name": "stdout",
     "output_type": "stream",
     "text": [
      "The autoreload extension is already loaded. To reload it, use:\n",
      "  %reload_ext autoreload\n"
     ]
    }
   ],
   "source": [
    "import numpy as np\n",
    "from scipy import optimize\n",
    "import sympy as sm\n",
    "\n",
    "# autoreload modules when code is run\n",
    "%load_ext autoreload\n",
    "%autoreload 2\n",
    "\n",
    "# local modules\n",
    "import modelproject_copy as model"
   ]
  },
  {
   "cell_type": "markdown",
   "metadata": {},
   "source": [
    "# Model description"
   ]
  },
  {
   "attachments": {},
   "cell_type": "markdown",
   "metadata": {},
   "source": [
    "We want to carry out an OLG model of climate-economy interactions. \n",
    "\n",
    "!!! skriv noget om forfatter \n",
    "\n",
    "ung og gammel \n",
    "\n",
    "Individual preferences are described by the life-cycle utility function: \n",
    "\n",
    "$$u_t = log(c_{yt})+\\frac{1}{1+\\rho} log(c_{ot+1})$$\n",
    "\n",
    "This utility function is logarithmic in consumption, and $\\rho$ is the relative weight attached to increments oc consumption in youth and old age. \n",
    "\n",
    "Budget constraint: \n",
    "\n",
    "Young: \n",
    "$$ c_{yt} + k_{t+1} = w_t + \\pi_{yt} $$\n",
    "Old: \n",
    "$$ c_{ot+1} = w_{t+1} + (1+r_{t+1})k_{t+1} + \\pi_{ot+1}$$\n",
    "\n",
    "FOC: \n",
    "$$\\frac{c_{ot+1}}{c_{yt}} = \\frac{1+r_{t+1}}{1+\\rho}$$\n",
    "\n",
    "Comsumption possibilities of the economy are characterized by the net production function: \n",
    "$$ C_t + K_{t+1} = f_{t}(K_t, N_t, E_t, T_t) + K_t $$\n",
    "Thus, \n",
    "$$ C_t = n_t c_{yt} + n_{t-1} c_{ot} $$\n",
    "is the aggregated level of consumption summed over all young and old individuals. While, \n",
    "$$ K_t = n_{n-1} k_t $$\n",
    "is the aggregated capital stock or the summed asset holdings of all old individuals. \n",
    "The total population or supply of labor services is \n",
    "$$ N_t = n_{t-1} + n_t $$\n",
    "\n",
    "The residual emissions of greenhouse gases is $E_t$, and the increase in mean global temperature relative to the preindustrial norm is $T_t$. \n",
    "\n",
    "\n",
    "Further, profit maximization implies that the marginal productivity of each factor is set equal to its price so that:\n",
    "\n",
    "$$ r_t = \\frac{\\partial{f_t}}{\\partial{K_t}}, \\space w_t = \\frac{\\partial{f_t}}{\\partial{N_t}}, \\space v_t = \\frac{\\partial{f_t}}{\\partial{E_t}}$$\n",
    "\n",
    "Profits are zero since the production function exhibits constant returns to scale.\n",
    "\n",
    "We assume that future climatic conditions are determined by the time path of greenhouse gas emissions:\n",
    "\n",
    "$$ T_t = T_t(E_0,...,E_{t-1}) $$\n",
    "\n",
    "where $\\partial{T_t}/\\partial{E_{t-i}} > 0 \\space (i > 0)$ so that current emissions imply increased future temperatures and hence reduced future output.\n",
    "\n",
    "Howarth (1996) shows that any allocation that satisfies the conditions outlined above constitutes a competitive equilibrium provided that the set of lump-sum transfers ($\\pi_{yt}$ and $\\pi_{ot}$) and greenhouse gas emissions taxes is chosen to obey the balanced budget condition:\n",
    "\n",
    "$$ n_t \\pi_{yt} + n_{t-1} \\pi_{ot} = v_t E_t $$ \n",
    "\n",
    "An equilibrium will be Pareto efficient if emissions taxes are chosen by conventional criteria to equate the marginal costs and discounted future benefits of emissions control:\n",
    "\n",
    "$$ v_t = - \\sum^{\\bar{t}-t}_{i=1} \\frac{\\partial{f_{t+1}}}{\\partial{T_{t+1}}} \\frac{\\partial{T_{t+1}}}{\\partial{E_{t}}} \\left(\\prod^{i}_{j=1} \\space \\frac{1}{1+r_{t+j}} \\right) $$\n",
    "\n",
    "\n"
   ]
  },
  {
   "attachments": {},
   "cell_type": "markdown",
   "metadata": {},
   "source": [
    "## Model Calibration"
   ]
  },
  {
   "attachments": {},
   "cell_type": "markdown",
   "metadata": {},
   "source": [
    "Noget med DICE af Nordhaus (1994) \n",
    "\n",
    "Starting point is 2000, where there is 5.93 billion people. Bulatao et al. (1990) states that people under the age of 35 is approximately 65% of the world's population. \n",
    "\n",
    "Then they parametize the number of young people alive at each date measured in billions to:\n",
    "\n",
    "$$ N_{yt}=5.27-1.42(0.587)^t $$\n",
    "\n",
    "Which indicate an initial population growth rate of 1.1%/year, which will converge over the long run to a population of 10.54 billion people. \n",
    "\n",
    "Nordhaus state gross world output $(Y_t)$, in trillion dollars per period, is a Cobb-Douglas production function:\n",
    "\n",
    "$$ Y_t = A_t K_t^{0.25} N_t^{0.75} $$\n",
    "\n",
    "where $A_t$ is an index of total factor productivity. \n",
    "The initial capital stock is set equal to $56 trillion.\n",
    "\n",
    "Potential emissions, $E_{0t}$, in billion tons of carbon equivalent per period:\n",
    "\n",
    "$$ E_{0t} = (0.181 + 0.189(0.622)^t) Y_t $$\n",
    "\n",
    "Total factor productivity: \n",
    "\n",
    "$$ A_t = (235 - 142(0.739)^t) * (1-0.0133(T_t/3)^2) * (1-0.0686(1-E_t/E_{0t})^{2.89}) $$\n",
    "\n",
    "Skrevet af dem: \n",
    "The next item to consider is the relationship between gross and net output. In Nordhaus’ specification, capital depreciates at a rate of 10%/yr. Over generational (thirty-five year) time spans, the rate of net capital investment may therefore be represented using:\n",
    "\n",
    "$$ K_{t+1} = (1-0.1)^{35} K_t + T_t -C_t $$\n",
    "\n",
    "DICE implies that the change in mean global temperature relative to the preindustrial norm, measured in °C, is:\n",
    "\n",
    "$$ T_t = (5.92 log(Q_t/590) + F_t)/1.41  $$\n",
    "\n",
    "$Q_t$ measures the effective stock of carbon dioxide and chlorofluorocarbons in the atmosphere, measured in billion tons of carbon-equivalent. The preindustrial stock is set equal to 590 units so that a doubling of greenhouse gases in the atmosphere leads to a 2.91°C temperature rise.\n",
    "\n",
    "$F_t$ captures the so-called ‘radiative forcing’ caused by trace concentrations of methane, nitrous oxide, and water vapor as measured in watts/$m^2$. $F_t$  is exogenous such: \n",
    "\n",
    "$$ F_t = 1.42 - 0.764(0.523)^t $$\n",
    "\n",
    "Finally, the atmospheric stock of carbon dioxide and chlorofluorocar-\n",
    "bons is governed by the difference equation:\n",
    "\n",
    "$$ Q_{t+1} - 590 = 0.64 E_t+(1 - 0.00833)^{35} (Q_t - 590) $$"
   ]
  },
  {
   "cell_type": "markdown",
   "metadata": {},
   "source": [
    "## Numerical solution"
   ]
  },
  {
   "attachments": {},
   "cell_type": "markdown",
   "metadata": {},
   "source": [
    "### Model Structure"
   ]
  },
  {
   "cell_type": "code",
   "execution_count": null,
   "metadata": {},
   "outputs": [],
   "source": [
    "# noget med C_t + K_{t+1} = f_{t}(K_t, N_t, E_t, T_t) + K_t"
   ]
  },
  {
   "attachments": {},
   "cell_type": "markdown",
   "metadata": {},
   "source": [
    "### Model Calibration"
   ]
  },
  {
   "cell_type": "markdown",
   "metadata": {},
   "source": [
    "# Further analysis"
   ]
  },
  {
   "cell_type": "code",
   "execution_count": 5,
   "metadata": {},
   "outputs": [
    {
     "name": "stdout",
     "output_type": "stream",
     "text": [
      "initializing the model:\n",
      "calling .setup()\n"
     ]
    }
   ],
   "source": [
    "model_yes = model.OLG_CIE_Class()"
   ]
  },
  {
   "cell_type": "code",
   "execution_count": 7,
   "metadata": {},
   "outputs": [
    {
     "ename": "TypeError",
     "evalue": "A_t() missing 3 required positional arguments: 'T_t', 'E_t', and 'E_0t'",
     "output_type": "error",
     "traceback": [
      "\u001b[0;31m---------------------------------------------------------------------------\u001b[0m",
      "\u001b[0;31mTypeError\u001b[0m                                 Traceback (most recent call last)",
      "\u001b[0;32m/var/folders/_0/__2l_zk5425dbzpq1s84wr8r0000gn/T/ipykernel_94771/1371349829.py\u001b[0m in \u001b[0;36m<module>\u001b[0;34m\u001b[0m\n\u001b[0;32m----> 1\u001b[0;31m \u001b[0mmodel_yes\u001b[0m\u001b[0;34m.\u001b[0m\u001b[0mA_t\u001b[0m\u001b[0;34m(\u001b[0m\u001b[0;34m)\u001b[0m\u001b[0;34m\u001b[0m\u001b[0;34m\u001b[0m\u001b[0m\n\u001b[0m",
      "\u001b[0;31mTypeError\u001b[0m: A_t() missing 3 required positional arguments: 'T_t', 'E_t', and 'E_0t'"
     ]
    }
   ],
   "source": []
  },
  {
   "cell_type": "markdown",
   "metadata": {},
   "source": [
    "# Conclusion"
   ]
  },
  {
   "cell_type": "markdown",
   "metadata": {},
   "source": [
    "Add concise conclusion. "
   ]
  }
 ],
 "metadata": {
  "kernelspec": {
   "display_name": "base",
   "language": "python",
   "name": "python3"
  },
  "language_info": {
   "codemirror_mode": {
    "name": "ipython",
    "version": 3
   },
   "file_extension": ".py",
   "mimetype": "text/x-python",
   "name": "python",
   "nbconvert_exporter": "python",
   "pygments_lexer": "ipython3",
   "version": "3.9.13"
  },
  "toc-autonumbering": true,
  "vscode": {
   "interpreter": {
    "hash": "47ef90cdf3004d3f859f1fb202523c65c07ba7c22eefd261b181f4744e2d0403"
   }
  }
 },
 "nbformat": 4,
 "nbformat_minor": 4
}
